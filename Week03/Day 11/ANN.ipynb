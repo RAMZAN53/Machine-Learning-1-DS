{
 "cells": [
  {
   "cell_type": "code",
   "execution_count": 1,
   "id": "70f864a0-e8a6-4e78-811b-3eda522a37c5",
   "metadata": {
    "colab": {
     "base_uri": "https://localhost:8080/"
    },
    "id": "70f864a0-e8a6-4e78-811b-3eda522a37c5",
    "outputId": "25bdb1d3-9b03-404e-a9c8-250ff71adef0"
   },
   "outputs": [
    {
     "name": "stdout",
     "output_type": "stream",
     "text": [
      "Requirement already satisfied: pip in /usr/local/lib/python3.11/dist-packages (24.1.2)\n",
      "Collecting pip\n",
      "  Downloading pip-25.1-py3-none-any.whl.metadata (3.6 kB)\n",
      "Downloading pip-25.1-py3-none-any.whl (1.8 MB)\n",
      "\u001b[2K   \u001b[90m━━━━━━━━━━━━━━━━━━━━━━━━━━━━━━━━━━━━━━━━\u001b[0m \u001b[32m1.8/1.8 MB\u001b[0m \u001b[31m17.3 MB/s\u001b[0m eta \u001b[36m0:00:00\u001b[0m\n",
      "\u001b[?25hInstalling collected packages: pip\n",
      "  Attempting uninstall: pip\n",
      "    Found existing installation: pip 24.1.2\n",
      "    Uninstalling pip-24.1.2:\n",
      "      Successfully uninstalled pip-24.1.2\n",
      "Successfully installed pip-25.1\n"
     ]
    }
   ],
   "source": [
    "!python -m pip install --upgrade pip"
   ]
  },
  {
   "cell_type": "code",
   "execution_count": 2,
   "id": "18260ee6-02cf-4b3c-870b-a546de7ee4cd",
   "metadata": {
    "colab": {
     "base_uri": "https://localhost:8080/"
    },
    "id": "18260ee6-02cf-4b3c-870b-a546de7ee4cd",
    "outputId": "8d392c13-0c3e-48f9-91b8-63421a5f5b18"
   },
   "outputs": [
    {
     "name": "stdout",
     "output_type": "stream",
     "text": [
      "Collecting annoy\n",
      "  Downloading annoy-1.17.3.tar.gz (647 kB)\n",
      "\u001b[?25l     \u001b[90m━━━━━━━━━━━━━━━━━━━━━━━━━━━━━━━━━━━━━━━━\u001b[0m \u001b[32m0.0/647.5 kB\u001b[0m \u001b[31m?\u001b[0m eta \u001b[36m-:--:--\u001b[0m\r",
      "\u001b[2K     \u001b[90m━━━━━━━━━━━━━━━━━━━━━━━━━━━━━━━━━━━━━━\u001b[0m \u001b[32m647.5/647.5 kB\u001b[0m \u001b[31m16.5 MB/s\u001b[0m eta \u001b[36m0:00:00\u001b[0m\n",
      "\u001b[?25h  Preparing metadata (setup.py) ... \u001b[?25l\u001b[?25hdone\n",
      "Building wheels for collected packages: annoy\n",
      "\u001b[33m  DEPRECATION: Building 'annoy' using the legacy setup.py bdist_wheel mechanism, which will be removed in a future version. pip 25.3 will enforce this behaviour change. A possible replacement is to use the standardized build interface by setting the `--use-pep517` option, (possibly combined with `--no-build-isolation`), or adding a `pyproject.toml` file to the source tree of 'annoy'. Discussion can be found at https://github.com/pypa/pip/issues/6334\u001b[0m\u001b[33m\n",
      "\u001b[0m  Building wheel for annoy (setup.py) ... \u001b[?25l\u001b[?25hdone\n",
      "  Created wheel for annoy: filename=annoy-1.17.3-cp311-cp311-linux_x86_64.whl size=553317 sha256=a4d9d3bcad841026361fc78103323f42c00c05e3e86977eee0f60d4249d93a6e\n",
      "  Stored in directory: /root/.cache/pip/wheels/33/e5/58/0a3e34b92bedf09b4c57e37a63ff395ade6f6c1099ba59877c\n",
      "Successfully built annoy\n",
      "Installing collected packages: annoy\n",
      "Successfully installed annoy-1.17.3\n"
     ]
    }
   ],
   "source": [
    "!pip install annoy"
   ]
  },
  {
   "cell_type": "code",
   "execution_count": 3,
   "id": "e7025741-c365-4d7e-869b-f83d7e82dc2d",
   "metadata": {
    "id": "e7025741-c365-4d7e-869b-f83d7e82dc2d"
   },
   "outputs": [],
   "source": [
    "# Importing Required Libraries\n",
    "from sklearn.datasets import load_digits\n",
    "from sklearn.model_selection import train_test_split\n",
    "import numpy as np\n",
    "from annoy import AnnoyIndex\n",
    "from sklearn.metrics import accuracy_score\n",
    "import matplotlib.pyplot as plt"
   ]
  },
  {
   "cell_type": "code",
   "execution_count": 5,
   "id": "dd248dec-2920-44ea-b951-b91ac327a279",
   "metadata": {
    "id": "dd248dec-2920-44ea-b951-b91ac327a279"
   },
   "outputs": [],
   "source": [
    "# Load Digits Dataset\n",
    "digits = load_digits()"
   ]
  },
  {
   "cell_type": "code",
   "execution_count": 6,
   "id": "scvxcHtrYvUb",
   "metadata": {
    "colab": {
     "base_uri": "https://localhost:8080/"
    },
    "id": "scvxcHtrYvUb",
    "outputId": "190d46fb-8d5b-4df7-8df3-62dec4b0406e"
   },
   "outputs": [
    {
     "name": "stdout",
     "output_type": "stream",
     "text": [
      "Total number of images in the Digits dataset: 1797\n",
      "Number of images (rows): 1797\n",
      "Number of features (columns): 64\n",
      "\n",
      " Feature Names: \n",
      "\n",
      "['pixel_0_0', 'pixel_0_1', 'pixel_0_2', 'pixel_0_3', 'pixel_0_4', 'pixel_0_5', 'pixel_0_6', 'pixel_0_7', 'pixel_1_0', 'pixel_1_1', 'pixel_1_2', 'pixel_1_3', 'pixel_1_4', 'pixel_1_5', 'pixel_1_6', 'pixel_1_7', 'pixel_2_0', 'pixel_2_1', 'pixel_2_2', 'pixel_2_3', 'pixel_2_4', 'pixel_2_5', 'pixel_2_6', 'pixel_2_7', 'pixel_3_0', 'pixel_3_1', 'pixel_3_2', 'pixel_3_3', 'pixel_3_4', 'pixel_3_5', 'pixel_3_6', 'pixel_3_7', 'pixel_4_0', 'pixel_4_1', 'pixel_4_2', 'pixel_4_3', 'pixel_4_4', 'pixel_4_5', 'pixel_4_6', 'pixel_4_7', 'pixel_5_0', 'pixel_5_1', 'pixel_5_2', 'pixel_5_3', 'pixel_5_4', 'pixel_5_5', 'pixel_5_6', 'pixel_5_7', 'pixel_6_0', 'pixel_6_1', 'pixel_6_2', 'pixel_6_3', 'pixel_6_4', 'pixel_6_5', 'pixel_6_6', 'pixel_6_7', 'pixel_7_0', 'pixel_7_1', 'pixel_7_2', 'pixel_7_3', 'pixel_7_4', 'pixel_7_5', 'pixel_7_6', 'pixel_7_7']\n"
     ]
    }
   ],
   "source": [
    "num_images = digits.data.shape[0]\n",
    "print(f\"Total number of images in the Digits dataset: {num_images}\")\n",
    "\n",
    "num_rows, num_columns = digits.data.shape\n",
    "print(f\"Number of images (rows): {num_rows}\")\n",
    "print(f\"Number of features (columns): {num_columns}\")\n",
    "\n",
    "print(\"\\n Feature Names: \\n\")\n",
    "print(digits.feature_names)"
   ]
  },
  {
   "cell_type": "code",
   "execution_count": 7,
   "id": "13BYw2OZY7PH",
   "metadata": {
    "colab": {
     "base_uri": "https://localhost:8080/"
    },
    "id": "13BYw2OZY7PH",
    "outputId": "225830bc-efc0-4f6f-d795-1e1278cee386"
   },
   "outputs": [
    {
     "name": "stdout",
     "output_type": "stream",
     "text": [
      "Shape of images: (1797, 64)\n"
     ]
    }
   ],
   "source": [
    "X, y = digits.data, digits.target\n",
    "# Each image is 8x8 pixels = 64 features\n",
    "print(f\"Shape of images: {X.shape}\")"
   ]
  },
  {
   "cell_type": "code",
   "execution_count": 8,
   "id": "rIBJoQnWZBcU",
   "metadata": {
    "id": "rIBJoQnWZBcU"
   },
   "outputs": [],
   "source": [
    "# Split into Train and Test\n",
    "X_train, X_test, y_train, y_test = train_test_split(X, y, test_size=0.3, random_state=42)"
   ]
  },
  {
   "cell_type": "code",
   "execution_count": 14,
   "id": "CW0ZZIelZOBW",
   "metadata": {
    "id": "CW0ZZIelZOBW"
   },
   "outputs": [],
   "source": [
    "# List of K values to try\n",
    "k_values = [1, 3, 5, 7, 9, 11, 13, 15, 17, 19,21,23,25,27,29]\n",
    "accuracies = []"
   ]
  },
  {
   "cell_type": "code",
   "execution_count": 15,
   "id": "R2gAekhCZGdQ",
   "metadata": {
    "id": "R2gAekhCZGdQ"
   },
   "outputs": [],
   "source": [
    "def build_annoy_index(X_train, k):\n",
    "    annoy_index = AnnoyIndex(X_train.shape[1], 'euclidean')\n",
    "    for i in range(X_train.shape[0]):\n",
    "        annoy_index.add_item(i, X_train[i])\n",
    "    annoy_index.build(10)\n",
    "    return annoy_index"
   ]
  },
  {
   "cell_type": "code",
   "execution_count": 16,
   "id": "Z_aqj_P0ZXML",
   "metadata": {
    "colab": {
     "base_uri": "https://localhost:8080/"
    },
    "id": "Z_aqj_P0ZXML",
    "outputId": "dc2f946a-fb0b-4715-bead-21b24e329c36"
   },
   "outputs": [
    {
     "name": "stdout",
     "output_type": "stream",
     "text": [
      "K=1 -> Accuracy: 0.9778\n",
      "K=3 -> Accuracy: 0.9648\n",
      "K=5 -> Accuracy: 0.9704\n",
      "K=7 -> Accuracy: 0.9759\n",
      "K=9 -> Accuracy: 0.9704\n",
      "K=11 -> Accuracy: 0.9722\n",
      "K=13 -> Accuracy: 0.9704\n",
      "K=15 -> Accuracy: 0.9648\n",
      "K=17 -> Accuracy: 0.9648\n",
      "K=19 -> Accuracy: 0.9648\n",
      "K=21 -> Accuracy: 0.9593\n",
      "K=23 -> Accuracy: 0.9574\n",
      "K=25 -> Accuracy: 0.9537\n",
      "K=27 -> Accuracy: 0.9556\n",
      "K=29 -> Accuracy: 0.9519\n"
     ]
    }
   ],
   "source": [
    "# Train and evaluate ANN for each K\n",
    "for k in k_values:\n",
    "    annoy_index = build_annoy_index(X_train, k)\n",
    "    y_pred = []\n",
    "    for i in range(X_test.shape[0]):\n",
    "        neighbors = annoy_index.get_nns_by_vector(X_test[i], k)\n",
    "        neighbor_labels = y_train[neighbors]\n",
    "        most_common_label = np.bincount(neighbor_labels).argmax()\n",
    "        y_pred.append(most_common_label)\n",
    "\n",
    "    acc = accuracy_score(y_test, y_pred)\n",
    "    accuracies.append(acc)\n",
    "    print(f\"K={k} -> Accuracy: {acc:.4f}\")"
   ]
  },
  {
   "cell_type": "code",
   "execution_count": 17,
   "id": "36ggCVReZbuv",
   "metadata": {
    "colab": {
     "base_uri": "https://localhost:8080/",
     "height": 487
    },
    "id": "36ggCVReZbuv",
    "outputId": "ce530ca6-54b6-4830-d3cd-a1f5a7cdab4e"
   },
   "outputs": [
    {
     "data": {
      "image/png": "[encoded data removed]",
      "text/plain": [
       "<Figure size 800x500 with 1 Axes>"
      ]
     },
     "metadata": {},
     "output_type": "display_data"
    }
   ],
   "source": [
    "# Plot Accuracy vs K\n",
    "plt.figure(figsize=(8, 5))\n",
    "plt.plot(k_values, accuracies, marker='o', linestyle='--', color='green')\n",
    "plt.title('ANN Accuracy vs K Value')\n",
    "plt.xlabel('K Value')\n",
    "plt.ylabel('Accuracy')\n",
    "plt.xticks(k_values)\n",
    "plt.grid(True)\n",
    "plt.show()"
   ]
  },
  {
   "cell_type": "code",
   "execution_count": 18,
   "id": "VYdV4CYCZhFV",
   "metadata": {
    "colab": {
     "base_uri": "https://localhost:8080/"
    },
    "id": "VYdV4CYCZhFV",
    "outputId": "0cb820bf-0505-43d6-c0cd-863ccca76059"
   },
   "outputs": [
    {
     "name": "stdout",
     "output_type": "stream",
     "text": [
      "\n",
      " Best K = 1 with Accuracy = 0.9778\n",
      "\n",
      " Worst K = 29 with Accuracy = 0.9519\n"
     ]
    }
   ],
   "source": [
    "max_accuracy = max(accuracies)\n",
    "min_accuracy = min(accuracies)\n",
    "\n",
    "best_k = k_values[accuracies.index(max_accuracy)]\n",
    "worst_k = k_values[accuracies.index(min_accuracy)]\n",
    "\n",
    "print(f\"\\n Best K = {best_k} with Accuracy = {max_accuracy:.4f}\")\n",
    "print(f\"\\n Worst K = {worst_k} with Accuracy = {min_accuracy:.4f}\")"
   ]
  },
  {
   "cell_type": "code",
   "execution_count": null,
   "id": "NAX0vLuZZi21",
   "metadata": {
    "id": "NAX0vLuZZi21"
   },
   "outputs": [],
   "source": []
  }
 ],
 "metadata": {
  "colab": {
   "provenance": []
  },
  "kernelspec": {
   "display_name": "Python 3 (ipykernel)",
   "language": "python",
   "name": "python3"
  },
  "language_info": {
   "codemirror_mode": {
    "name": "ipython",
    "version": 3
   },
   "file_extension": ".py",
   "mimetype": "text/x-python",
   "name": "python",
   "nbconvert_exporter": "python",
   "pygments_lexer": "ipython3",
   "version": "3.13.1"
  }
 },
 "nbformat": 4,
 "nbformat_minor": 5
}
