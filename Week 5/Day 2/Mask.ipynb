{
 "cells": [
  {
   "cell_type": "markdown",
   "id": "7f75c2da-95e4-44e2-a7d6-721163a042d1",
   "metadata": {},
   "source": [
    "<h2>Importing Libraries</h2>"
   ]
  },
  {
   "cell_type": "code",
   "execution_count": 2,
   "id": "b760bec3-4024-4ab5-96b3-765567a663bf",
   "metadata": {},
   "outputs": [],
   "source": [
    "from transformers import AutoTokenizer, AutoModelForMaskedLM\n",
    "import torch"
   ]
  },
  {
   "cell_type": "markdown",
   "id": "05eea5ba-fcda-409c-a9ab-597475c2f116",
   "metadata": {},
   "source": [
    "<h2>Load the Pre-trained Model and Tokenizer<h2>"
   ]
  },
  {
   "cell_type": "code",
   "execution_count": 7,
   "id": "23955d81-2e3c-4817-b9ad-2c49259a8ae2",
   "metadata": {},
   "outputs": [
    {
     "data": {
      "application/vnd.jupyter.widget-view+json": {
       "model_id": "8c1b61c5820d44c79b3cad9a5a90a424",
       "version_major": 2,
       "version_minor": 0
      },
      "text/plain": [
       "tokenizer_config.json:   0%|          | 0.00/48.0 [00:00<?, ?B/s]"
      ]
     },
     "metadata": {},
     "output_type": "display_data"
    },
    {
     "name": "stderr",
     "output_type": "stream",
     "text": [
      "C:\\Users\\Doctor Computers\\AppData\\Roaming\\Python\\Python312\\site-packages\\huggingface_hub\\file_download.py:143: UserWarning: `huggingface_hub` cache-system uses symlinks by default to efficiently store duplicated files but your machine does not support them in C:\\Users\\Doctor Computers\\.cache\\huggingface\\hub\\models--google-bert--bert-base-uncased. Caching files will still work but in a degraded version that might require more space on your disk. This warning can be disabled by setting the `HF_HUB_DISABLE_SYMLINKS_WARNING` environment variable. For more details, see https://huggingface.co/docs/huggingface_hub/how-to-cache#limitations.\n",
      "To support symlinks on Windows, you either need to activate Developer Mode or to run Python as an administrator. In order to activate developer mode, see this article: https://docs.microsoft.com/en-us/windows/apps/get-started/enable-your-device-for-development\n",
      "  warnings.warn(message)\n"
     ]
    },
    {
     "data": {
      "application/vnd.jupyter.widget-view+json": {
       "model_id": "14520d492a0a4c1c8c3c9bd5aed81173",
       "version_major": 2,
       "version_minor": 0
      },
      "text/plain": [
       "config.json:   0%|          | 0.00/570 [00:00<?, ?B/s]"
      ]
     },
     "metadata": {},
     "output_type": "display_data"
    },
    {
     "data": {
      "application/vnd.jupyter.widget-view+json": {
       "model_id": "d8d8fe3754664887b57435aa48f117d0",
       "version_major": 2,
       "version_minor": 0
      },
      "text/plain": [
       "vocab.txt:   0%|          | 0.00/232k [00:00<?, ?B/s]"
      ]
     },
     "metadata": {},
     "output_type": "display_data"
    },
    {
     "data": {
      "application/vnd.jupyter.widget-view+json": {
       "model_id": "f3dfdf408fab47afa051c77f52e014cb",
       "version_major": 2,
       "version_minor": 0
      },
      "text/plain": [
       "tokenizer.json:   0%|          | 0.00/466k [00:00<?, ?B/s]"
      ]
     },
     "metadata": {},
     "output_type": "display_data"
    },
    {
     "name": "stderr",
     "output_type": "stream",
     "text": [
      "Xet Storage is enabled for this repo, but the 'hf_xet' package is not installed. Falling back to regular HTTP download. For better performance, install the package with: `pip install huggingface_hub[hf_xet]` or `pip install hf_xet`\n"
     ]
    },
    {
     "data": {
      "application/vnd.jupyter.widget-view+json": {
       "model_id": "2c4e0ef57e114f91bb4fb976dbb93bfa",
       "version_major": 2,
       "version_minor": 0
      },
      "text/plain": [
       "model.safetensors:   0%|          | 0.00/440M [00:00<?, ?B/s]"
      ]
     },
     "metadata": {},
     "output_type": "display_data"
    },
    {
     "name": "stderr",
     "output_type": "stream",
     "text": [
      "Some weights of the model checkpoint at google-bert/bert-base-uncased were not used when initializing BertForMaskedLM: ['bert.pooler.dense.bias', 'bert.pooler.dense.weight', 'cls.seq_relationship.bias', 'cls.seq_relationship.weight']\n",
      "- This IS expected if you are initializing BertForMaskedLM from the checkpoint of a model trained on another task or with another architecture (e.g. initializing a BertForSequenceClassification model from a BertForPreTraining model).\n",
      "- This IS NOT expected if you are initializing BertForMaskedLM from the checkpoint of a model that you expect to be exactly identical (initializing a BertForSequenceClassification model from a BertForSequenceClassification model).\n"
     ]
    },
    {
     "data": {
      "text/plain": [
       "BertForMaskedLM(\n",
       "  (bert): BertModel(\n",
       "    (embeddings): BertEmbeddings(\n",
       "      (word_embeddings): Embedding(30522, 768, padding_idx=0)\n",
       "      (position_embeddings): Embedding(512, 768)\n",
       "      (token_type_embeddings): Embedding(2, 768)\n",
       "      (LayerNorm): LayerNorm((768,), eps=1e-12, elementwise_affine=True)\n",
       "      (dropout): Dropout(p=0.1, inplace=False)\n",
       "    )\n",
       "    (encoder): BertEncoder(\n",
       "      (layer): ModuleList(\n",
       "        (0-11): 12 x BertLayer(\n",
       "          (attention): BertAttention(\n",
       "            (self): BertSdpaSelfAttention(\n",
       "              (query): Linear(in_features=768, out_features=768, bias=True)\n",
       "              (key): Linear(in_features=768, out_features=768, bias=True)\n",
       "              (value): Linear(in_features=768, out_features=768, bias=True)\n",
       "              (dropout): Dropout(p=0.1, inplace=False)\n",
       "            )\n",
       "            (output): BertSelfOutput(\n",
       "              (dense): Linear(in_features=768, out_features=768, bias=True)\n",
       "              (LayerNorm): LayerNorm((768,), eps=1e-12, elementwise_affine=True)\n",
       "              (dropout): Dropout(p=0.1, inplace=False)\n",
       "            )\n",
       "          )\n",
       "          (intermediate): BertIntermediate(\n",
       "            (dense): Linear(in_features=768, out_features=3072, bias=True)\n",
       "            (intermediate_act_fn): GELUActivation()\n",
       "          )\n",
       "          (output): BertOutput(\n",
       "            (dense): Linear(in_features=3072, out_features=768, bias=True)\n",
       "            (LayerNorm): LayerNorm((768,), eps=1e-12, elementwise_affine=True)\n",
       "            (dropout): Dropout(p=0.1, inplace=False)\n",
       "          )\n",
       "        )\n",
       "      )\n",
       "    )\n",
       "  )\n",
       "  (cls): BertOnlyMLMHead(\n",
       "    (predictions): BertLMPredictionHead(\n",
       "      (transform): BertPredictionHeadTransform(\n",
       "        (dense): Linear(in_features=768, out_features=768, bias=True)\n",
       "        (transform_act_fn): GELUActivation()\n",
       "        (LayerNorm): LayerNorm((768,), eps=1e-12, elementwise_affine=True)\n",
       "      )\n",
       "      (decoder): Linear(in_features=768, out_features=30522, bias=True)\n",
       "    )\n",
       "  )\n",
       ")"
      ]
     },
     "execution_count": 7,
     "metadata": {},
     "output_type": "execute_result"
    }
   ],
   "source": [
    "tokenizer = AutoTokenizer.from_pretrained(\"google-bert/bert-base-uncased\")\n",
    "model = AutoModelForMaskedLM.from_pretrained(\"google-bert/bert-base-uncased\")\n",
    "model.eval() # sets the model into evaluation mode, disabling certain layers (like dropout) used during training"
   ]
  },
  {
   "cell_type": "code",
   "execution_count": 9,
   "id": "e9c24008-71ff-495d-a419-ff400cdb0183",
   "metadata": {},
   "outputs": [],
   "source": [
    "sentence = \"The capital of France is [MASK].\""
   ]
  },
  {
   "cell_type": "code",
   "execution_count": 11,
   "id": "a4f23553-305c-4243-a7cb-8354f2c4f8f7",
   "metadata": {},
   "outputs": [],
   "source": [
    "inputs = tokenizer(sentence, return_tensors=\"pt\") # Converts the tokenized output into PyTorch tensors (so it can be fed to the model)."
   ]
  },
  {
   "cell_type": "markdown",
   "id": "83c1073a-6309-4fd0-89fb-1b951a016793",
   "metadata": {},
   "source": [
    "<h2>Predict the Masked Token</h2>                                     \n",
    "torch.no_grad(): Ensures that no gradients are calculated during the prediction (since we're not training the model).                               \n",
    "model(**inputs): Feeds the tokenized input into the model to get predictions.                                                                       \n",
    "outputs.logits: The model returns raw predictions (logits) for each token.                                                           \n",
    "                These logits represent the model's confidence for each word in the vocabulary for every position in the input sequence."
   ]
  },
  {
   "cell_type": "code",
   "execution_count": 17,
   "id": "59dacc70-838c-4f2a-8611-bff06a783695",
   "metadata": {},
   "outputs": [],
   "source": [
    "with torch.no_grad():\n",
    "    outputs = model(**inputs)\n",
    "    predictions = outputs.logits"
   ]
  },
  {
   "cell_type": "markdown",
   "id": "1e0848d4-2b6a-4a3d-991e-a727b251e9f1",
   "metadata": {},
   "source": [
    "<h1>Find the Index of [MASK]</h1>\n",
    "inputs.input_ids: The token IDs representing the input sentence.                                                                 \n",
    "tokenizer.mask_token_id: The token ID for the special [MASK] token.                                                                              \n",
    ".nonzero(as_tuple=True)[1]: Finds the position (index) of the [MASK] token in the input."
   ]
  },
  {
   "cell_type": "code",
   "execution_count": 21,
   "id": "60b30bb4-9042-450b-983d-4f42c9700b23",
   "metadata": {},
   "outputs": [],
   "source": [
    "mask_index = (inputs.input_ids == tokenizer.mask_token_id).nonzero(as_tuple=True)[1]"
   ]
  },
  {
   "cell_type": "markdown",
   "id": "ba13116c-9ef5-48d8-8e7c-4c2981137b4a",
   "metadata": {},
   "source": [
    "<h1>Get the Most Likely Prediction</h1>                                                                                   \n",
    "predictions[0, mask_index]: Extracts the logits for the [MASK] token position.                                                          \n",
    ".argmax(dim=1): Finds the index of the highest probability for the [MASK] token (i.e., the most likely word).                                     "
   ]
  },
  {
   "cell_type": "code",
   "execution_count": 26,
   "id": "753910bf-6ca2-4ea6-aa7b-eb6b57862589",
   "metadata": {},
   "outputs": [],
   "source": [
    "predicted_token_id = predictions[0, mask_index].argmax(dim=1)"
   ]
  },
  {
   "cell_type": "markdown",
   "id": "d392efc2-1887-460c-9fc0-c29518e48eb6",
   "metadata": {},
   "source": [
    "<h1>Decode the Predicted Token</h1>                                                                                 \n",
    "tokenizer.decode(predicted_token_id): Converts the predicted token ID back into a human-readable word."
   ]
  },
  {
   "cell_type": "code",
   "execution_count": 29,
   "id": "50f0f150-3dea-4751-ad8a-d051ca84d3d2",
   "metadata": {},
   "outputs": [],
   "source": [
    "predicted_word = tokenizer.decode(predicted_token_id)"
   ]
  },
  {
   "cell_type": "code",
   "execution_count": 31,
   "id": "52bbd197-808d-44e5-8660-37734700b423",
   "metadata": {},
   "outputs": [
    {
     "name": "stdout",
     "output_type": "stream",
     "text": [
      "Predicted word for [MASK]: paris\n"
     ]
    }
   ],
   "source": [
    "print(\"Predicted word for [MASK]:\", predicted_word)"
   ]
  },
  {
   "cell_type": "code",
   "execution_count": null,
   "id": "a7a057f3-76bb-4f4f-b9e6-3e5e8f0a00cb",
   "metadata": {},
   "outputs": [],
   "source": []
  }
 ],
 "metadata": {
  "kernelspec": {
   "display_name": "Python [conda env:base] *",
   "language": "python",
   "name": "conda-base-py"
  },
  "language_info": {
   "codemirror_mode": {
    "name": "ipython",
    "version": 3
   },
   "file_extension": ".py",
   "mimetype": "text/x-python",
   "name": "python",
   "nbconvert_exporter": "python",
   "pygments_lexer": "ipython3",
   "version": "3.12.7"
  }
 },
 "nbformat": 4,
 "nbformat_minor": 5
}
