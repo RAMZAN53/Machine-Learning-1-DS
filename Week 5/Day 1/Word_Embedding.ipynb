{
 "cells": [
  {
   "cell_type": "code",
   "execution_count": 1,
   "id": "c52f09bb-5c06-49b2-921d-bea63011da59",
   "metadata": {},
   "outputs": [],
   "source": [
    "import gensim.downloader"
   ]
  },
  {
   "cell_type": "code",
   "execution_count": 3,
   "id": "dd13091b-b888-498b-87bb-b6771c07de69",
   "metadata": {},
   "outputs": [
    {
     "name": "stdout",
     "output_type": "stream",
     "text": [
      "[==================================================] 100.0% 66.0/66.0MB downloaded\n"
     ]
    }
   ],
   "source": [
    "model=gensim.downloader.load(\"glove-wiki-gigaword-50\")"
   ]
  },
  {
   "cell_type": "code",
   "execution_count": 5,
   "id": "ae790759-98e4-44e9-990a-e42f80008e3d",
   "metadata": {},
   "outputs": [
    {
     "data": {
      "text/plain": [
       "array([ 1.1474e+00,  1.1811e+00,  7.4556e-01, -5.9101e-02,  5.0499e-01,\n",
       "       -7.0449e-01, -3.2136e-01, -4.5390e-01, -4.5763e-01, -7.5341e-01,\n",
       "       -3.3511e-01, -2.4975e-02, -5.0192e-01,  6.3773e-01, -8.3059e-01,\n",
       "        8.3565e-01, -2.4701e-01,  3.2421e-01, -1.1103e+00, -2.1335e-02,\n",
       "        6.8717e-01, -3.9340e-01, -1.6390e+00, -5.0493e-01, -1.6684e-01,\n",
       "       -6.7649e-01, -3.1798e-01,  8.8503e-01, -3.1552e-02, -1.5608e-01,\n",
       "        1.9805e+00, -1.1870e+00,  8.3342e-01, -1.8369e-01, -2.6691e-01,\n",
       "        1.1619e-01,  1.1023e+00, -3.5937e-01,  2.5015e-02, -4.0615e-02,\n",
       "        3.0681e-01, -4.1076e-01,  8.4586e-02,  2.2475e-01, -5.0955e-01,\n",
       "        6.5819e-01, -1.2432e-01, -1.4039e+00,  1.6178e-04, -5.2529e-01],\n",
       "      dtype=float32)"
      ]
     },
     "execution_count": 5,
     "metadata": {},
     "output_type": "execute_result"
    }
   ],
   "source": [
    "word=\"tower\"\n",
    "model[word]"
   ]
  },
  {
   "cell_type": "code",
   "execution_count": 7,
   "id": "02bbcdf4-dba4-4c9a-891c-f9999a765eef",
   "metadata": {},
   "outputs": [
    {
     "data": {
      "text/plain": [
       "array([-0.90629  ,  1.2485   , -0.79692  , -1.4027   , -0.038458 ,\n",
       "       -0.25177  , -1.2838   , -0.58413  , -0.11179  , -0.56908  ,\n",
       "       -0.34842  , -0.39626  , -0.0090178, -1.0691   , -0.35368  ,\n",
       "       -0.052826 , -0.37056  ,  1.0931   , -0.19205  ,  0.44648  ,\n",
       "        0.45169  ,  0.72104  , -0.61103  ,  0.6315   , -0.49044  ,\n",
       "       -1.7517   ,  0.055979 , -0.52281  , -1.0248   , -0.89142  ,\n",
       "        3.0695   ,  0.14483  , -0.13938  , -1.3907   ,  1.2123   ,\n",
       "        0.40173  ,  0.4171   ,  0.27364  ,  0.98673  ,  0.027599 ,\n",
       "       -0.8724   , -0.51648  , -0.30662  ,  0.37784  ,  0.016734 ,\n",
       "        0.23813  ,  0.49411  , -0.56643  , -0.18744  ,  0.62809  ],\n",
       "      dtype=float32)"
      ]
     },
     "execution_count": 7,
     "metadata": {},
     "output_type": "execute_result"
    }
   ],
   "source": [
    "word=\"school\"\n",
    "model[word]"
   ]
  },
  {
   "cell_type": "code",
   "execution_count": 9,
   "id": "372e08eb-a765-4dce-beeb-473e9c93c32a",
   "metadata": {},
   "outputs": [
    {
     "data": {
      "text/plain": [
       "array([-4.5872e-01, -6.8515e-01,  8.4507e-02,  6.0642e-01, -4.9214e-01,\n",
       "        2.3180e-01,  1.0701e+00, -3.9118e-01,  2.8327e-01, -4.9246e-01,\n",
       "        4.4384e-01,  1.1589e-01,  5.8728e-01, -8.6674e-01, -8.2695e-01,\n",
       "        4.6221e-02,  1.0451e-01,  9.7741e-01,  5.6604e-02,  1.6798e-01,\n",
       "       -5.8152e-01, -5.1580e-01,  4.0459e-01, -5.2695e-01,  1.8299e-01,\n",
       "        9.9126e-01,  4.5613e-01, -2.7210e-01, -4.7223e-01,  1.6477e-01,\n",
       "       -5.9767e-01,  2.4122e-01, -1.7313e-01,  3.8263e-01, -7.6703e-01,\n",
       "        1.0027e-04, -3.5558e-01, -4.1101e-01,  3.0995e-01, -1.4527e-01,\n",
       "        3.0156e-01, -5.9566e-01, -8.3435e-01,  4.9083e-01, -4.1619e-01,\n",
       "       -6.4881e-01,  2.6821e-01,  2.2341e-01, -2.0059e-01,  1.2606e-01],\n",
       "      dtype=float32)"
      ]
     },
     "execution_count": 9,
     "metadata": {},
     "output_type": "execute_result"
    }
   ],
   "source": [
    "word=\"ucp\"\n",
    "model[word]"
   ]
  },
  {
   "cell_type": "code",
   "execution_count": null,
   "id": "6bb98193-1490-49b8-a12f-4dca55fb39cb",
   "metadata": {},
   "outputs": [],
   "source": []
  }
 ],
 "metadata": {
  "kernelspec": {
   "display_name": "Python [conda env:base] *",
   "language": "python",
   "name": "conda-base-py"
  },
  "language_info": {
   "codemirror_mode": {
    "name": "ipython",
    "version": 3
   },
   "file_extension": ".py",
   "mimetype": "text/x-python",
   "name": "python",
   "nbconvert_exporter": "python",
   "pygments_lexer": "ipython3",
   "version": "3.12.7"
  }
 },
 "nbformat": 4,
 "nbformat_minor": 5
}
