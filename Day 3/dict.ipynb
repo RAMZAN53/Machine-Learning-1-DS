{
  "cells": [
    {
      "cell_type": "markdown",
      "id": "1f48d5c9",
      "metadata": {
        "id": "1f48d5c9"
      },
      "source": [
        "# 1. Create a Dictionary from Two Lists\n",
        "\n",
        "## Problem Statement:\n",
        "Write a function to create a dictionary from two lists of equal length, one for keys and one for values.\n",
        "\n",
        "## Example 1:\n",
        "**Input:** `keys = ['a', 'b'], values = [1, 2]`  \n",
        "**Output:** `{'a': 1, 'b': 2}`\n",
        "\n",
        "## Example 2:\n",
        "**Input:** `keys = ['x'], values = [10]`  \n",
        "**Output:** `{'x': 10}`\n"
      ]
    },
    {
      "cell_type": "code",
      "execution_count": 143,
      "id": "3ea65a39",
      "metadata": {
        "colab": {
          "base_uri": "https://localhost:8080/"
        },
        "id": "3ea65a39",
        "outputId": "8ddae1bc-11da-4602-b2b9-9e98875c7cc5"
      },
      "outputs": [
        {
          "output_type": "stream",
          "name": "stdout",
          "text": [
            "{'a': 1, 'b': 2}\n"
          ]
        }
      ],
      "source": [
        "def Create_Dictionary(keys, values):\n",
        "    return dict(zip(keys, values))\n",
        "\n",
        "keys = ['a', 'b']\n",
        "values = [1, 2]\n",
        "print(Create_Dictionary(keys, values))"
      ]
    },
    {
      "cell_type": "code",
      "execution_count": 23,
      "id": "116d7f17",
      "metadata": {
        "colab": {
          "base_uri": "https://localhost:8080/"
        },
        "id": "116d7f17",
        "outputId": "b9852592-a61d-4e4c-81a2-82fd21646c2c"
      },
      "outputs": [
        {
          "output_type": "stream",
          "name": "stdout",
          "text": [
            "{'a': 1, 'b': 2}\n"
          ]
        }
      ],
      "source": [
        "def Create_Dictionary(keys, values):\n",
        "    if len(keys) != len(values):\n",
        "        return None\n",
        "\n",
        "    dictionary = {}\n",
        "    for i in range(len(keys)):\n",
        "        dictionary[keys[i]] = values[i]\n",
        "    return dictionary\n",
        "\n",
        "keys = ['a', 'b']\n",
        "values = [1, 2]\n",
        "\n",
        "print(Create_Dictionary(keys, values))"
      ]
    },
    {
      "cell_type": "code",
      "source": [
        "def Create_Dictionay(keys,values):\n",
        "\tif not keys or not values:\n",
        "\t\treturn None\n",
        "\tdic={}\n",
        "\tfor i in range(len(keys)):\n",
        "    dic[keys[i]]=values[i]\n",
        "\n",
        "\treturn dic\n",
        "\n",
        "keys=['a','b']\n",
        "values=[5,7]\n",
        "print(Create_Dictionay(keys,values))"
      ],
      "metadata": {
        "colab": {
          "base_uri": "https://localhost:8080/"
        },
        "id": "5wJIkjIniJj7",
        "outputId": "64fa705b-6e48-4768-fc4a-b2058e25f7ff"
      },
      "id": "5wJIkjIniJj7",
      "execution_count": 144,
      "outputs": [
        {
          "output_type": "stream",
          "name": "stdout",
          "text": [
            "{'a': 5, 'b': 7}\n"
          ]
        }
      ]
    },
    {
      "cell_type": "markdown",
      "id": "9016196e",
      "metadata": {
        "id": "9016196e"
      },
      "source": [
        "# 2. Merge Two Dictionaries\n",
        "\n",
        "## Problem Statement:\n",
        "Write a function to merge two dictionaries into one.\n",
        "\n",
        "## Example 1:\n",
        "**Input:** `{'a': 1}, {'b': 2}`  \n",
        "**Output:** `{'a': 1, 'b': 2}`\n",
        "\n",
        "## Example 2:\n",
        "**Input:** `{'x': 10}, {'y': 20, 'z': 30}`  \n",
        "**Output:** `{'x': 10, 'y': 20, 'z': 30}`\n"
      ]
    },
    {
      "cell_type": "code",
      "execution_count": 91,
      "id": "5ee5d659",
      "metadata": {
        "colab": {
          "base_uri": "https://localhost:8080/"
        },
        "id": "5ee5d659",
        "outputId": "0e0084a4-3e1b-487c-a294-528c2e7d39c1"
      },
      "outputs": [
        {
          "output_type": "stream",
          "name": "stdout",
          "text": [
            "{'x': 10, 'y': 20, 'z': 30}\n"
          ]
        }
      ],
      "source": [
        "def Merge_Dictionaries(dict1,dict2):\n",
        "\n",
        "  if not dict1 or not dict2:\n",
        "    return None\n",
        "\n",
        "  dic={}\n",
        "  for i in dict1:\n",
        "    dic[i]=dict1[i]\n",
        "\n",
        "  for i in dict2:\n",
        "    dic[i]=dict2[i]\n",
        "\n",
        "  return dic\n",
        "\n",
        "#dict1={'a': 1}\n",
        "#dict2={'b': 2}\n",
        "\n",
        "dict1={'x': 10}\n",
        "dict2={'y': 20, 'z': 30}\n",
        "\n",
        "print(Merge_Dictionaries(dict1,dict2))"
      ]
    },
    {
      "cell_type": "code",
      "execution_count": null,
      "id": "d9d7b5b2",
      "metadata": {
        "id": "d9d7b5b2"
      },
      "outputs": [],
      "source": []
    },
    {
      "cell_type": "markdown",
      "id": "c6526c5c",
      "metadata": {
        "id": "c6526c5c"
      },
      "source": [
        "# 3. Check if Key Exists\n",
        "\n",
        "## Problem Statement:\n",
        "Write a function to check if a specific key exists in a dictionary.\n",
        "\n",
        "## Example 1:\n",
        "**Input:** `{'a': 1}, 'a'`  \n",
        "**Output:** `True`\n",
        "\n",
        "## Example 2:\n",
        "**Input:** `{'b': 2}, 'a'`  \n",
        "**Output:** `False`\n"
      ]
    },
    {
      "cell_type": "code",
      "execution_count": 90,
      "id": "a04fa909",
      "metadata": {
        "colab": {
          "base_uri": "https://localhost:8080/"
        },
        "id": "a04fa909",
        "outputId": "e49a56ed-dba7-451e-84aa-950de3861ef0"
      },
      "outputs": [
        {
          "output_type": "stream",
          "name": "stdout",
          "text": [
            "True\n"
          ]
        }
      ],
      "source": [
        "def CheckKey(dic,key):\n",
        "  if not key or not dic:\n",
        "    return None\n",
        "\n",
        "  if key in dic:\n",
        "    return True\n",
        "  else:\n",
        "    return False\n",
        "\n",
        "#dic={'a':1}\n",
        "#key='a'\n",
        "\n",
        "dic={'a':1,'b': 2,'c':3}\n",
        "key='a'\n",
        "\n",
        "print(CheckKey(dic,key))"
      ]
    },
    {
      "cell_type": "code",
      "execution_count": null,
      "id": "b1ef4e37",
      "metadata": {
        "id": "b1ef4e37"
      },
      "outputs": [],
      "source": []
    },
    {
      "cell_type": "markdown",
      "id": "e72c9a22",
      "metadata": {
        "id": "e72c9a22"
      },
      "source": [
        "# 4. Count Frequency of Elements\n",
        "\n",
        "## Problem Statement:\n",
        "Write a function to count the frequency of each element in a list using a dictionary.\n",
        "\n",
        "## Example 1:\n",
        "**Input:** `[1,2,2,3]`  \n",
        "**Output:** `{1:1, 2:2, 3:1}`\n",
        "\n",
        "## Example 2:\n",
        "**Input:** `['a','b','a']`  \n",
        "**Output:** `{'a':2, 'b':1}`\n",
        "\n",
        "\n"
      ]
    },
    {
      "cell_type": "code",
      "execution_count": 95,
      "id": "31fd888e",
      "metadata": {
        "colab": {
          "base_uri": "https://localhost:8080/"
        },
        "id": "31fd888e",
        "outputId": "6f9d8371-4ec3-49ad-a459-f6a98aef3005"
      },
      "outputs": [
        {
          "output_type": "stream",
          "name": "stdout",
          "text": [
            "{'a': 2, 'b': 1}\n"
          ]
        }
      ],
      "source": [
        "def CountFrequency(lst):\n",
        "  if not lst:\n",
        "    return None\n",
        "\n",
        "  dic={}\n",
        "  for i in lst:\n",
        "    #dic[i]=lst.count(i)\n",
        "    if i in dic:\n",
        "      dic[i]+=1\n",
        "    else:\n",
        "      dic[i]=1\n",
        "\n",
        "  return dic\n",
        "\n",
        "#lst=[1,2,2,3]\n",
        "lst=['a','b','a']\n",
        "print(CountFrequency(lst))"
      ]
    },
    {
      "cell_type": "code",
      "execution_count": 46,
      "id": "ad5808ba",
      "metadata": {
        "id": "ad5808ba"
      },
      "outputs": [],
      "source": []
    },
    {
      "cell_type": "markdown",
      "id": "c1b74aa9",
      "metadata": {
        "id": "c1b74aa9"
      },
      "source": [
        "# 5. Reverse Dictionary (Unique Values)\n",
        "\n",
        "## Problem Statement:\n",
        "Write a function to reverse keys and values in a dictionary. Assume values are unique.\n",
        "\n",
        "## Example 1:\n",
        "**Input:** `{'a':1, 'b':2}`  \n",
        "**Output:** `{1:'a', 2:'b'}`\n",
        "\n",
        "## Example 2:\n",
        "**Input:** `{'x':'y'}`  \n",
        "**Output:** `{'y':'x'}`\n"
      ]
    },
    {
      "cell_type": "code",
      "execution_count": 98,
      "id": "df0a31ed",
      "metadata": {
        "colab": {
          "base_uri": "https://localhost:8080/"
        },
        "id": "df0a31ed",
        "outputId": "e93a63f9-0a71-470c-c83f-a89022d8e85b"
      },
      "outputs": [
        {
          "output_type": "stream",
          "name": "stdout",
          "text": [
            "{1: 'a', 2: 'b'}\n"
          ]
        }
      ],
      "source": [
        "def Reverse(dictionary):\n",
        "  tem={}\n",
        "  for key,value in dictionary.items():\n",
        "    #print(dictionary.items())\n",
        "    tem[value]=key\n",
        "  return tem\n",
        "\n",
        "dictionary={'a':1, 'b':2}\n",
        "print(Reverse(dictionary))"
      ]
    },
    {
      "cell_type": "markdown",
      "source": [],
      "metadata": {
        "id": "SV38N1jVObMn"
      },
      "id": "SV38N1jVObMn"
    },
    {
      "cell_type": "code",
      "execution_count": null,
      "id": "ba3b7a1a",
      "metadata": {
        "id": "ba3b7a1a"
      },
      "outputs": [],
      "source": []
    },
    {
      "cell_type": "markdown",
      "id": "bfc01a37",
      "metadata": {
        "id": "bfc01a37"
      },
      "source": [
        "# 6. Dictionary with Maximum Value\n",
        "\n",
        "## Problem Statement:\n",
        "Write a function that returns the key with the highest value in a dictionary.\n",
        "\n",
        "## Example 1:\n",
        "**Input:** `{'a':3, 'b':10}`  \n",
        "**Output:** `'b'`\n",
        "\n",
        "## Example 2:\n",
        "**Input:** `{'x':1, 'y':-5}`  \n",
        "**Output:** `'x'`\n"
      ]
    },
    {
      "cell_type": "code",
      "execution_count": 70,
      "id": "3ebfad1c",
      "metadata": {
        "colab": {
          "base_uri": "https://localhost:8080/"
        },
        "id": "3ebfad1c",
        "outputId": "1a8e0613-5b2d-4a51-c49f-37e76286cfd1"
      },
      "outputs": [
        {
          "output_type": "stream",
          "name": "stdout",
          "text": [
            "Max Key: b\n"
          ]
        }
      ],
      "source": [
        "def Max_Value(dic):\n",
        "  if not dic:\n",
        "    return None\n",
        "\n",
        "  max_value=0\n",
        "  max_key=None\n",
        "  for key,value in dic.items():\n",
        "    if value>max_value:\n",
        "      max_value=value\n",
        "      max_key=key\n",
        "\n",
        "  return max_key,max_value\n",
        "\n",
        "#dic={'x':1, 'y':-5}\n",
        "dic={'a':3, 'b':10}\n",
        "max_key=max_value=None\n",
        "max_key,max_value=Max_Value(dic)\n",
        "print(\"Max Key:\",max_key)"
      ]
    },
    {
      "cell_type": "code",
      "execution_count": null,
      "id": "2aead54f",
      "metadata": {
        "id": "2aead54f"
      },
      "outputs": [],
      "source": []
    },
    {
      "cell_type": "markdown",
      "id": "2df1f7ab",
      "metadata": {
        "id": "2df1f7ab"
      },
      "source": [
        "# 7. Remove Key from Dictionary\n",
        "\n",
        "## Problem Statement:\n",
        "Write a function that removes a specified key from a dictionary.\n",
        "\n",
        "## Example 1:\n",
        "**Input:** `{'a':1, 'b':2}, 'a'`  \n",
        "**Output:** `{'b':2}`\n",
        "\n",
        "## Example 2:\n",
        "**Input:** `{'x':3, 'y':4}, 'z'`  \n",
        "**Output:** `{'x':3, 'y':4}`\n"
      ]
    },
    {
      "cell_type": "code",
      "execution_count": 142,
      "id": "ebc9c007",
      "metadata": {
        "colab": {
          "base_uri": "https://localhost:8080/"
        },
        "id": "ebc9c007",
        "outputId": "16ea6190-3d82-4cdd-9895-58c608d63eed"
      },
      "outputs": [
        {
          "output_type": "stream",
          "name": "stdout",
          "text": [
            "{'b': 2}\n"
          ]
        }
      ],
      "source": []
    },
    {
      "cell_type": "code",
      "execution_count": 147,
      "id": "4c042f24",
      "metadata": {
        "colab": {
          "base_uri": "https://localhost:8080/"
        },
        "id": "4c042f24",
        "outputId": "a36d1ba2-025e-481d-c7f8-db0d27d7e06a"
      },
      "outputs": [
        {
          "output_type": "stream",
          "name": "stdout",
          "text": [
            "{'b': 2}\n"
          ]
        }
      ],
      "source": [
        "def Remove(dic,key):\n",
        "  if not dic or not key:\n",
        "    return None\n",
        "\n",
        "  temp={}\n",
        "  for Dickey,DicValue in dic.items():\n",
        "    if Dickey!=key:\n",
        "      temp[Dickey]=DicValue\n",
        "\n",
        "  return temp\n",
        "\n",
        "dic={'a':1, 'b':2}\n",
        "key='a'\n",
        "print(Remove(dic,key))"
      ]
    },
    {
      "cell_type": "markdown",
      "id": "542b30d7",
      "metadata": {
        "id": "542b30d7"
      },
      "source": [
        "# 8. Dictionary from String\n",
        "\n",
        "## Problem Statement:\n",
        "Write a function to count the occurrences of each character in a given string using a dictionary.\n",
        "\n",
        "## Example 1:\n",
        "**Input:** `\"hello\"`  \n",
        "**Output:** `{'h':1,'e':1,'l':2,'o':1}`\n",
        "\n",
        "## Example 2:\n",
        "**Input:** `\"abc\"`  \n",
        "**Output:** `{'a':1,'b':1,'c':1}`\n",
        "\n",
        "\n"
      ]
    },
    {
      "cell_type": "code",
      "execution_count": 79,
      "id": "1a0604ff",
      "metadata": {
        "colab": {
          "base_uri": "https://localhost:8080/"
        },
        "id": "1a0604ff",
        "outputId": "8e8dc7c6-49f0-4610-9fb7-cd08386be064"
      },
      "outputs": [
        {
          "output_type": "stream",
          "name": "stdout",
          "text": [
            "{'h': 1, 'e': 1, 'l': 2, 'o': 1}\n"
          ]
        }
      ],
      "source": [
        "def Count_Character(Str):\n",
        "  if not Str:\n",
        "    return \"String is empty\"\n",
        "\n",
        "  count={}\n",
        "  for i in Str:\n",
        "    if i in count:\n",
        "      count[i]+=1\n",
        "    else:\n",
        "      count[i]=1\n",
        "\n",
        "  return count\n",
        "\n",
        "Str=\"hello\"\n",
        "print(Count_Character(Str))"
      ]
    },
    {
      "cell_type": "code",
      "source": [],
      "metadata": {
        "id": "iaPvy4zhUj3L"
      },
      "id": "iaPvy4zhUj3L",
      "execution_count": null,
      "outputs": []
    },
    {
      "cell_type": "markdown",
      "id": "b8bb6168",
      "metadata": {
        "id": "b8bb6168"
      },
      "source": [
        "# 9. Update Value in Dictionary\n",
        "\n",
        "## Problem Statement:\n",
        "Write a function to update a value associated with a given key in a dictionary.\n",
        "\n",
        "## Example 1:\n",
        "**Input:** `{'a':1}, 'a', 100`  \n",
        "**Output:** `{'a':100}`\n",
        "\n",
        "## Example 2:\n",
        "**Input:** `{'x':10}, 'y', 20`  \n",
        "**Output:** `{'x':10, 'y':20}`\n"
      ]
    },
    {
      "cell_type": "code",
      "execution_count": 83,
      "id": "7a8a617e",
      "metadata": {
        "colab": {
          "base_uri": "https://localhost:8080/"
        },
        "id": "7a8a617e",
        "outputId": "d7af7399-811c-41f8-83f2-7b5d63c7d054"
      },
      "outputs": [
        {
          "output_type": "stream",
          "name": "stdout",
          "text": [
            "{'x': 10, 'a': 100}\n"
          ]
        }
      ],
      "source": [
        "def Update(dic,key,val):\n",
        "  if not dic or not key or not val:\n",
        "    return None\n",
        "\n",
        "  for DicKey,DicValue in dic.items():\n",
        "    if DicKey==key:\n",
        "      dic[key]=val\n",
        "\n",
        "  return dic\n",
        "\n",
        "dic={'x':10,'a':1}\n",
        "key='a'\n",
        "val=100\n",
        "print(Update(dic,key,val))"
      ]
    },
    {
      "cell_type": "code",
      "execution_count": null,
      "id": "1345099a",
      "metadata": {
        "id": "1345099a"
      },
      "outputs": [],
      "source": []
    },
    {
      "cell_type": "markdown",
      "id": "8b580e88",
      "metadata": {
        "id": "8b580e88"
      },
      "source": [
        "# 10. Sort Dictionary by Values\n",
        "\n",
        "## Problem Statement:\n",
        "Write a function to sort a dictionary by values in ascending order.\n",
        "\n",
        "## Example 1:\n",
        "**Input:** `{'a':3, 'b':1}`  \n",
        "**Output:** `{'b':1, 'a':3}`\n",
        "\n",
        "## Example 2:\n",
        "**Input:** `{'x':4,'y':2}`  \n",
        "**Output:** `{'y':2, 'x':4}`\n"
      ]
    },
    {
      "cell_type": "code",
      "execution_count": 106,
      "id": "4cfc1e2c",
      "metadata": {
        "colab": {
          "base_uri": "https://localhost:8080/"
        },
        "id": "4cfc1e2c",
        "outputId": "1ceac4f7-e44b-48a8-cbdf-0723dcde142e"
      },
      "outputs": [
        {
          "output_type": "stream",
          "name": "stdout",
          "text": [
            "{'b': 1, 'y': 2, 'a': 3, 'x': 4}\n"
          ]
        }
      ],
      "source": [
        "def SortDictionary(dic):\n",
        "    if not dic:\n",
        "        return None\n",
        "\n",
        "    items = list(dic.items())\n",
        "    for i in range(len(items)):\n",
        "        for j in range(i + 1, len(items)):\n",
        "            if items[i][1] > items[j][1]:\n",
        "                items[i], items[j] = items[j], items[i]\n",
        "\n",
        "    return dict(items)\n",
        "\n",
        "dictionary = {'a': 3, 'b': 1,'x':4,'y':2}\n",
        "print(SortDictionary(dictionary))"
      ]
    },
    {
      "cell_type": "code",
      "execution_count": 104,
      "id": "deac7ba4",
      "metadata": {
        "id": "deac7ba4"
      },
      "outputs": [],
      "source": [
        "del dict"
      ]
    },
    {
      "cell_type": "markdown",
      "id": "923a13f3",
      "metadata": {
        "id": "923a13f3"
      },
      "source": [
        "# 11. Dictionary Intersection\n",
        "\n",
        "## Problem Statement:\n",
        "Write a function that returns a dictionary containing keys common to two dictionaries with values from the first dictionary.\n",
        "\n",
        "## Example 1:\n",
        "**Input:** `{'a':1, 'b':2}, {'b':4, 'c':3}`  \n",
        "**Output:** `{'b':2}`\n",
        "\n",
        "## Example 2:\n",
        "**Input:** `{'x':5}, {'y':5}`  \n",
        "**Output:** `{}`\n"
      ]
    },
    {
      "cell_type": "code",
      "execution_count": 110,
      "id": "463eed21",
      "metadata": {
        "colab": {
          "base_uri": "https://localhost:8080/"
        },
        "id": "463eed21",
        "outputId": "0c8cd1f6-f8cc-47e7-da3b-2699b934b0d0"
      },
      "outputs": [
        {
          "output_type": "stream",
          "name": "stdout",
          "text": [
            "{'b': 2}\n",
            "{}\n"
          ]
        }
      ],
      "source": [
        "def Intersection(dic1,dic2):\n",
        "  if not dic1 or not dic2:\n",
        "    return \"Dictionary 1 or Dictionary 2 is empty\"\n",
        "\n",
        "  result={}\n",
        "  for key in dic1:\n",
        "    if key in dic2:\n",
        "      result[key]=dic1[key]\n",
        "\n",
        "  return result\n",
        "\n",
        "print(Intersection({'a':1, 'b':2}, {'b':4, 'c':3}))\n",
        "print(Intersection({'x':5}, {'y':5}))"
      ]
    },
    {
      "cell_type": "code",
      "execution_count": null,
      "id": "8ea06653",
      "metadata": {
        "id": "8ea06653"
      },
      "outputs": [],
      "source": []
    },
    {
      "cell_type": "markdown",
      "id": "328b85be",
      "metadata": {
        "id": "328b85be"
      },
      "source": [
        "# 14. Filter Dictionary by Values\n",
        "\n",
        "## Problem Statement:\n",
        "Write a function to filter a dictionary, keeping only items where the value is greater than a given number.\n",
        "\n",
        "## Example 1:\n",
        "**Input:** `{'a':5, 'b':2, 'c':8}, 4`  \n",
        "**Output:** `{'a':5, 'c':8}`\n",
        "\n",
        "## Example 2:\n",
        "**Input:** `{'x':1, 'y':3}, 2`  \n",
        "**Output:** `{'y':3}`\n"
      ]
    },
    {
      "cell_type": "code",
      "execution_count": 112,
      "id": "58e19b37",
      "metadata": {
        "colab": {
          "base_uri": "https://localhost:8080/"
        },
        "id": "58e19b37",
        "outputId": "d583d5f0-3818-43a0-c284-8f6a965b9e18"
      },
      "outputs": [
        {
          "output_type": "stream",
          "name": "stdout",
          "text": [
            "{'a': 5, 'c': 8}\n",
            "{'y': 3}\n"
          ]
        }
      ],
      "source": [
        "def Filter(dic,n):\n",
        "  if not dic or not n:\n",
        "    return None\n",
        "\n",
        "  result={}\n",
        "  for key,value in dic.items():\n",
        "    if value>n:\n",
        "      result[key]=value\n",
        "\n",
        "  return result\n",
        "\n",
        "print(Filter({'a':5, 'b':2, 'c':8}, 4))\n",
        "print(Filter({'x':1, 'y':3}, 2))"
      ]
    },
    {
      "cell_type": "code",
      "execution_count": null,
      "id": "55c9884b",
      "metadata": {
        "id": "55c9884b"
      },
      "outputs": [],
      "source": []
    },
    {
      "cell_type": "markdown",
      "id": "b37b6bd2",
      "metadata": {
        "id": "b37b6bd2"
      },
      "source": [
        "# 16. Dictionary from List of Tuples\n",
        "\n",
        "## Problem Statement:\n",
        "Write a function that converts a list of tuples into a dictionary, combining values for duplicate keys into lists.\n",
        "\n",
        "## Example 1:\n",
        "**Input:** `[('a',1), ('b',2), ('a',3)]`  \n",
        "**Output:** `{'a':[1,3], 'b':[2]}`\n",
        "\n",
        "## Example 2:\n",
        "**Input:** `[('x',4)]`  \n",
        "**Output:** `{'x':[4]}`\n"
      ]
    },
    {
      "cell_type": "code",
      "execution_count": 116,
      "id": "0cabcc36",
      "metadata": {
        "colab": {
          "base_uri": "https://localhost:8080/"
        },
        "id": "0cabcc36",
        "outputId": "7b66ea21-49d0-455d-fb9f-41629367652c"
      },
      "outputs": [
        {
          "output_type": "stream",
          "name": "stdout",
          "text": [
            "{'a': [1, 3], 'b': 2}\n",
            "{'x': 4}\n"
          ]
        }
      ],
      "source": [
        "def Conversion(lst):\n",
        "  if not lst:\n",
        "    return \"List is empty\"\n",
        "\n",
        "  dic={}\n",
        "  for key,value in lst:\n",
        "    if key in dic:\n",
        "      if isinstance(dic[key], list):\n",
        "        dic[key].append(value)\n",
        "      else:\n",
        "        dic[key] = [dic[key], value]\n",
        "    else:\n",
        "      dic[key]=value\n",
        "\n",
        "  return dic\n",
        "\n",
        "print(Conversion([('a',1), ('b',2), ('a',3)]))\n",
        "print(Conversion([('x',4)]))"
      ]
    },
    {
      "cell_type": "code",
      "execution_count": null,
      "id": "1ba92174",
      "metadata": {
        "id": "1ba92174"
      },
      "outputs": [],
      "source": []
    },
    {
      "cell_type": "markdown",
      "id": "a2f6a871",
      "metadata": {
        "id": "a2f6a871"
      },
      "source": [
        "# 17. Increment Dictionary Values\n",
        "\n",
        "## Problem Statement:\n",
        "Write a function to increment all integer values in a dictionary by a specified number.\n",
        "\n",
        "## Example 1:\n",
        "**Input:** `{'a':1, 'b':2}, 3`  \n",
        "**Output:** `{'a':4, 'b':5}`\n",
        "\n",
        "## Example 2:\n",
        "**Input:** `{'x':10}, -2`  \n",
        "**Output:** `{'x':8}`\n"
      ]
    },
    {
      "cell_type": "code",
      "execution_count": 118,
      "id": "2cae3f6e",
      "metadata": {
        "colab": {
          "base_uri": "https://localhost:8080/"
        },
        "id": "2cae3f6e",
        "outputId": "99d2de12-09b7-40e0-ae07-fb27c78cd5f3"
      },
      "outputs": [
        {
          "output_type": "stream",
          "name": "stdout",
          "text": [
            "{'a': 4, 'b': 5}\n",
            "{'x': 8}\n"
          ]
        }
      ],
      "source": [
        "def IncrementValues(dic,val):\n",
        "  if not dic or not val:\n",
        "    return None\n",
        "\n",
        "  for key,value in dic.items():\n",
        "    if key in dic:\n",
        "      dic[key]+=val\n",
        "\n",
        "  return dic\n",
        "\n",
        "print(IncrementValues({'a':1, 'b':2}, 3))\n",
        "print(IncrementValues({'x':10}, -2))"
      ]
    },
    {
      "cell_type": "code",
      "execution_count": null,
      "id": "5a8c4696",
      "metadata": {
        "id": "5a8c4696"
      },
      "outputs": [],
      "source": []
    },
    {
      "cell_type": "markdown",
      "id": "1a4997f3",
      "metadata": {
        "id": "1a4997f3"
      },
      "source": [
        "# 18. Find Duplicates in List Using Dictionary\n",
        "\n",
        "## Problem Statement:\n",
        "Write a function to find all elements that appear more than once in a list, using a dictionary.\n",
        "\n",
        "## Example 1:\n",
        "**Input:** `[1,2,2,3,4,4,4]`  \n",
        "**Output:** `[2,4]`\n",
        "\n",
        "## Example 2:\n",
        "**Input:** `['a','b','c','a']`  \n",
        "**Output:** `['a']`\n"
      ]
    },
    {
      "cell_type": "code",
      "execution_count": 123,
      "id": "35f77861",
      "metadata": {
        "colab": {
          "base_uri": "https://localhost:8080/"
        },
        "id": "35f77861",
        "outputId": "85ee9c2f-61c7-4d47-9bb3-2b6a60193812"
      },
      "outputs": [
        {
          "output_type": "stream",
          "name": "stdout",
          "text": [
            "[2, 4]\n",
            "['a']\n",
            "['a', 2, 4]\n"
          ]
        }
      ],
      "source": [
        "def Elements(lst):\n",
        "  frequency = {}\n",
        "  for element in lst:\n",
        "        if element in frequency:\n",
        "            frequency[element] += 1\n",
        "        else:\n",
        "            frequency[element] = 1\n",
        "\n",
        "  duplicates = []\n",
        "  for element, freq in frequency.items():\n",
        "        if freq > 1:\n",
        "            duplicates.append(element)\n",
        "\n",
        "  return duplicates\n",
        "\n",
        "\n",
        "print(Elements([1,2,2,3,4,4,4]))\n",
        "print(Elements(['a','b','c','a']))\n",
        "print(Elements(['a','b','c','a',1,2,2,3,4,4,4]))"
      ]
    },
    {
      "cell_type": "code",
      "execution_count": null,
      "id": "e2d4570d",
      "metadata": {
        "id": "e2d4570d"
      },
      "outputs": [],
      "source": []
    },
    {
      "cell_type": "markdown",
      "id": "37dab363",
      "metadata": {
        "id": "37dab363"
      },
      "source": [
        "# 19. Merge Dictionaries Summing Values\n",
        "\n",
        "## Problem Statement:\n",
        "Write a function to merge two dictionaries, summing values for common keys.\n",
        "\n",
        "## Example 1:\n",
        "**Input:** `{'a':2, 'b':3}, {'a':3, 'c':1}`  \n",
        "**Output:** `{'a':5, 'b':3, 'c':1}`\n",
        "\n",
        "## Example 2:\n",
        "**Input:** `{'x':1}, {'x':-1}`  \n",
        "**Output:** `{'x':0}`\n"
      ]
    },
    {
      "cell_type": "code",
      "execution_count": 127,
      "id": "f6b073b2",
      "metadata": {
        "colab": {
          "base_uri": "https://localhost:8080/"
        },
        "id": "f6b073b2",
        "outputId": "5e848c89-82b8-4c08-d204-ed710be8e04a"
      },
      "outputs": [
        {
          "output_type": "stream",
          "name": "stdout",
          "text": [
            "{'a': 5, 'c': 1}\n",
            "{'x': 0}\n"
          ]
        }
      ],
      "source": [
        "def MergeSummingValues(dic1,dic2):\n",
        "  if not dic1 or not dic2:\n",
        "    return None\n",
        "\n",
        "  result={}\n",
        "  for key,value in dic1.items():\n",
        "    if key in dic2:\n",
        "      result[key]=value+dic2[key]\n",
        "\n",
        "  for key,value in dic2.items():\n",
        "    if key not in dic1:\n",
        "      result[key]=value\n",
        "\n",
        "  return result\n",
        "\n",
        "print(MergeSummingValues({'a':2, 'b':3}, {'a':3, 'c':1}))\n",
        "print(MergeSummingValues({'x':1}, {'x':-1}))"
      ]
    },
    {
      "cell_type": "code",
      "execution_count": null,
      "id": "4931ea97",
      "metadata": {
        "id": "4931ea97"
      },
      "outputs": [],
      "source": []
    },
    {
      "cell_type": "markdown",
      "id": "01937f89",
      "metadata": {
        "id": "01937f89"
      },
      "source": [
        "# 20. Dictionary of Lists to Dictionary of Sums\n",
        "\n",
        "## Problem Statement:\n",
        "Write a function to convert a dictionary of lists into a dictionary of sums.\n",
        "\n",
        "## Example 1:\n",
        "**Input:** `{'a':[1,2,3], 'b':[4,5]}`  \n",
        "**Output:** `{'a':6, 'b':9}`\n",
        "\n",
        "## Example 2:\n",
        "**Input:** `{'x':[10]}`  \n",
        "**Output:** `{'x':10}`\n"
      ]
    },
    {
      "cell_type": "code",
      "execution_count": 141,
      "id": "02599144",
      "metadata": {
        "colab": {
          "base_uri": "https://localhost:8080/"
        },
        "id": "02599144",
        "outputId": "ef89138d-c3e1-49cf-9f7d-f782aa5bd500"
      },
      "outputs": [
        {
          "output_type": "stream",
          "name": "stdout",
          "text": [
            "{'a': 6, 'b': 9}\n",
            "{'x': 10}\n"
          ]
        }
      ],
      "source": [
        "def ConvertDictionaryOfLists(dic):\n",
        "    if not dic:\n",
        "        return None\n",
        "\n",
        "    result = {}\n",
        "    for key in dic:\n",
        "        sum = 0\n",
        "        for value in dic[key]:\n",
        "            sum += value\n",
        "        result[key] = sum\n",
        "\n",
        "    return result\n",
        "\n",
        "print(ConvertDictionaryOfLists({'a':[1,2,3], 'b':[4,5]}))\n",
        "print(ConvertDictionaryOfLists({'x':[10]}))"
      ]
    },
    {
      "cell_type": "code",
      "execution_count": null,
      "id": "551ecc09",
      "metadata": {
        "id": "551ecc09"
      },
      "outputs": [],
      "source": []
    }
  ],
  "metadata": {
    "kernelspec": {
      "display_name": "myenv",
      "language": "python",
      "name": "myenv"
    },
    "language_info": {
      "codemirror_mode": {
        "name": "ipython",
        "version": 3
      },
      "file_extension": ".py",
      "mimetype": "text/x-python",
      "name": "python",
      "nbconvert_exporter": "python",
      "pygments_lexer": "ipython3",
      "version": "3.12.3"
    },
    "colab": {
      "provenance": []
    }
  },
  "nbformat": 4,
  "nbformat_minor": 5
}